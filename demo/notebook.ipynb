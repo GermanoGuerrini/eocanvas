{
 "cells": [
  {
   "cell_type": "markdown",
   "metadata": {},
   "source": [
    "Load all the necessary classes"
   ]
  },
  {
   "cell_type": "code",
   "execution_count": null,
   "metadata": {},
   "outputs": [],
   "source": [
    "from eocanvas import API, Credentials\n",
    "from eocanvas.api import Input, Config, ConfigOption\n",
    "from eocanvas.processes import SnapProcess\n",
    "from eocanvas.snap.graph import Graph"
   ]
  },
  {
   "cell_type": "markdown",
   "metadata": {},
   "source": [
    "First, save your credentials. They will be automatically loaded when required."
   ]
  },
  {
   "cell_type": "code",
   "execution_count": null,
   "metadata": {},
   "outputs": [],
   "source": [
    "c = Credentials(username=\"germano\", password=\"12qwaszx!\")\n",
    "c.save()"
   ]
  },
  {
   "cell_type": "markdown",
   "metadata": {},
   "source": [
    "The easiest way to interact with the service is to use high level objects, such as SnapProcess or DataTailorProcess.\n",
    "\n",
    "Let's see a SnapProcess example.\n",
    "Set the inputs for SNAP.\n",
    "The graph can be either loaded from a file (suggested) or build programmatically.\n",
    "The URL for the input can be retrieved by using the HDA Python client."
   ]
  },
  {
   "cell_type": "code",
   "execution_count": null,
   "metadata": {},
   "outputs": [],
   "source": [
    "from hda import Client\n",
    "\n",
    "c = Client()\n",
    "\n",
    "q = {\n",
    "  \"dataset_id\": \"EO:EUM:DAT:SENTINEL-3:OL_2_WFR___\",\n",
    "  \"dtstart\": \"2024-07-05T09:28:00.000Z\",\n",
    "  \"dtend\": \"2024-07-05T09:30:00.000Z\",\n",
    "  \"timeliness\": \"NT\"\n",
    "}\n",
    "\n",
    "r = c.search(q)\n",
    "url = r.get_download_urls()[0]"
   ]
  },
  {
   "cell_type": "code",
   "execution_count": null,
   "metadata": {},
   "outputs": [],
   "source": [
    "graph = Graph.from_uri(\"olci_binding.xml\")\n",
    "config = Config(key=\"img1\", options=ConfigOption(uncompress=True, sub_path=\"xfdumanifest.xml\"))\n",
    "inputs = Input(key=\"img1\", url=url)\n",
    "inputs = Input(key=\"img1\", url=\"http://gateway.impl.wekeo2.eu/hda-broker/api/v1/dataaccess/download/66b37374b6a632e1f39b3058\")"
   ]
  },
  {
   "cell_type": "markdown",
   "metadata": {},
   "source": [
    "Create a SnapProcess object passing all the required arguments."
   ]
  },
  {
   "cell_type": "code",
   "execution_count": null,
   "metadata": {},
   "outputs": [],
   "source": [
    "process = SnapProcess(snap_graph=graph, eo_config=config, eo_input=inputs)"
   ]
  },
  {
   "cell_type": "markdown",
   "metadata": {},
   "source": [
    "If you want, you can explore how the inputs are being formatted before the submission to the API."
   ]
  },
  {
   "cell_type": "code",
   "execution_count": null,
   "metadata": {},
   "outputs": [],
   "source": [
    "process.prepare_inputs()"
   ]
  },
  {
   "cell_type": "markdown",
   "metadata": {},
   "source": [
    "Calling Process.run, the process will be submitted to the API and it will block until the results have been downloaded."
   ]
  },
  {
   "cell_type": "code",
   "execution_count": null,
   "metadata": {},
   "outputs": [],
   "source": [
    "process.run()"
   ]
  },
  {
   "cell_type": "markdown",
   "metadata": {},
   "source": [
    "Alternatively, it is possible to directly use the API as shown below: "
   ]
  },
  {
   "cell_type": "code",
   "execution_count": null,
   "metadata": {},
   "outputs": [],
   "source": [
    "api = API()"
   ]
  },
  {
   "cell_type": "code",
   "execution_count": null,
   "metadata": {},
   "outputs": [],
   "source": [
    "processes = api.get_processes()\n",
    "print(processes)"
   ]
  },
  {
   "cell_type": "code",
   "execution_count": null,
   "metadata": {},
   "outputs": [],
   "source": [
    "jobs = api.get_jobs()\n",
    "print(jobs)"
   ]
  },
  {
   "cell_type": "code",
   "execution_count": null,
   "metadata": {},
   "outputs": [],
   "source": [
    "job = api.get_job(job_id=jobs[-1])"
   ]
  },
  {
   "cell_type": "code",
   "execution_count": null,
   "metadata": {},
   "outputs": [],
   "source": [
    "api.get_job_logs(job=job)"
   ]
  },
  {
   "cell_type": "code",
   "execution_count": null,
   "metadata": {},
   "outputs": [],
   "source": [
    "results = api.get_job_results(job=job)"
   ]
  },
  {
   "cell_type": "code",
   "execution_count": null,
   "metadata": {},
   "outputs": [],
   "source": [
    "results[0].download()"
   ]
  }
 ],
 "metadata": {
  "kernelspec": {
   "display_name": "eocanvas",
   "language": "python",
   "name": "python3"
  },
  "language_info": {
   "codemirror_mode": {
    "name": "ipython",
    "version": 3
   },
   "file_extension": ".py",
   "mimetype": "text/x-python",
   "name": "python",
   "nbconvert_exporter": "python",
   "pygments_lexer": "ipython3",
   "version": "3.10.13"
  }
 },
 "nbformat": 4,
 "nbformat_minor": 2
}
